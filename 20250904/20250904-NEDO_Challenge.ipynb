{
 "cells": [
  {
   "cell_type": "markdown",
   "id": "b8cb093b",
   "metadata": {
    "tags": []
   },
   "source": [
    "## 0. 今日の量子コンピュータの問題\n",
    "\n",
    "- Noisy Intermediate-Scale Quantum (NISQ) デバイス\n",
    "    - 量子回路が深くなる（ゲート数が多くなる）ほど、誤差が大きくなる\n",
    "    - 十分な量子ビット数ではない\n",
    "- 量子デバイスは特別なゲート演算のみが用意されている\n",
    "- 特定のqubits間の量子ビット演算(multi qubit operation)しか用意されていない\n",
    "- それぞれの量子デバイスに対して、量子ソフトウェアツールキットが用意されてる\n"
   ]
  },
  {
   "cell_type": "markdown",
   "id": "6e1950ee",
   "metadata": {
    "tags": []
   },
   "source": [
    "### 0-1. TKETとは\n",
    "- Quantum Software Development Kit\n",
    "- C++で実装\n",
    "- pythonモジュール　`pytket`で利用可能\n",
    "- 最適化コンパイラ：　ユーザーフレンドリーな回路→量子デバイスで実行可能な回路に変換可能\n",
    "    - Language-agnostic (多くの量子プログラミングフレームワーク(qiskit, Cirq, etc)をサポート)\n",
    "    - Retagetable (多くの量子デバイス(Quantinuum, IBMQ, etc)をサポート)\n",
    "    - Circuit Optimisation (量子計算時に生じるデバイスエラーの影響を最小化。デバイス依存＆デバイス非依存のものが実装)\n",
    "    \n",
    "<img src=\"./fig/tket1.png\" width=\"750\">\n",
    "\n"
   ]
  },
  {
   "cell_type": "markdown",
   "id": "75c32ba7",
   "metadata": {
    "tags": []
   },
   "source": [
    "#### 参照\n",
    "- [pytket API ドキュメント](https://docs.quantinuum.com/tket/api-docs/index.html)\n",
    "- [pytket ユーザーガイド](https://docs.quantinuum.com/tket/user-guide/)\n",
    "- [t|ket⟩ : A Retargetable Compiler for NISQ Devices](https://arxiv.org/abs/2003.10611)"
   ]
  },
  {
   "cell_type": "markdown",
   "id": "90fcd536",
   "metadata": {
    "tags": []
   },
   "source": [
    "### 0-2. 今回必要となる python パッケージ\n",
    "Python Python 3.12.9で動作確認をしています。\n",
    "\n",
    "|  パッケージ （version） |  概要  |\n",
    "| :---- | :---- |\n",
    "|  pytket (2.9.1) |  TKETを利用するためのpython モジュール  ( available for python 3.10 or higher )|\n",
    "|  qnexus (0.27.0) |  Nexusにアクセスし, 量子回路のコンパイルやQuantinuum Hardware/Emulatorへの実行を可能にするpackage  |\n"
   ]
  },
  {
   "cell_type": "code",
   "execution_count": null,
   "id": "453bb118-242d-4d1e-ac9e-a03536010c34",
   "metadata": {},
   "outputs": [],
   "source": [
    "!pip freeze |grep pytket"
   ]
  },
  {
   "cell_type": "code",
   "execution_count": null,
   "id": "87ea517c-1316-4f7e-af77-164dc6fd6074",
   "metadata": {},
   "outputs": [],
   "source": [
    "!pip freeze |grep qnexus"
   ]
  },
  {
   "cell_type": "markdown",
   "id": "aa16497a",
   "metadata": {},
   "source": [
    "環境にインストールされていない場合は、以下のセルの＃を取り除き、インストールしてください。"
   ]
  },
  {
   "cell_type": "code",
   "execution_count": null,
   "id": "f53935a7",
   "metadata": {
    "scrolled": true
   },
   "outputs": [],
   "source": [
    "#!pip install -U pytket #TKET量子回路の作成、量子回路の最適化をじっこうするためのパッケージ\n",
    "#!pip install -U qnexus==0.27.0 #Nexusにアクセスし, 量子回路のコンパイルやQuantinuum Hardware/Emulatorへの実行を可能にするパッケージ\n",
    "#!pip install -U pylatexenc #可視化のためのパッケージ"
    "#!pip install -U pytket-qiskit #Qiskit用のpytket extensionパッケージ"
   ]
  },
  {
   "cell_type": "markdown",
   "id": "2e43c4f2",
   "metadata": {
    "tags": []
   },
   "source": [
    "## 1. TKET量子回路を作成し、可視化する\n",
    "ここでは IBMの量子デバイスやシュミレーションを利用できる`qiskit`と`TKET`でベル状態を作成する。"
   ]
  },
  {
   "cell_type": "markdown",
   "id": "4b5f8f4b",
   "metadata": {},
   "source": [
    "### 1-1. `qiskit`でベル状態を作成し、可視化する\n",
    "$$ |\\Psi\\rangle = \\frac{1}{\\sqrt{2}}(|00\\rangle+|11\\rangle)$$"
   ]
  },
  {
   "cell_type": "code",
   "execution_count": null,
   "id": "3d9e4a20",
   "metadata": {},
   "outputs": [],
   "source": [
    "from qiskit import QuantumCircuit\n",
    "\n",
    "qs_bell = QuantumCircuit(2)\n",
    "qs_bell.h(0)\n",
    "qs_bell.cx(0,1)\n",
    "qs_bell.measure_all()\n",
    "\n",
    "qs_bell.draw(output='mpl')"
   ]
  },
  {
   "cell_type": "markdown",
   "id": "82da5f25",
   "metadata": {},
   "source": [
    "### 1-2. `TKET`でベル状態を作成し、可視化する"
   ]
  },
  {
   "cell_type": "code",
   "execution_count": null,
   "id": "76615941",
   "metadata": {
    "tags": []
   },
   "outputs": [],
   "source": [
    "from pytket import Circuit\n",
    "from pytket.circuit.display import render_circuit_jupyter\n",
    "\n",
    "bell = Circuit(2)\n",
    "bell.H(0).CX(0,1)\n",
    "bell.measure_all()\n",
    "render_circuit_jupyter(bell)"
   ]
  },
  {
   "cell_type": "markdown",
   "id": "83ef7f15-957d-4a44-87df-34ef8025cf31",
   "metadata": {},
   "source": [
    "## 2. `qnexus`を利用し`TKET`の量子回路を量子デバイス/シミュレータで実行"
   ]
  },
  {
   "cell_type": "markdown",
   "id": "9c737e3e-1e31-43b6-98ee-10b3cab4e43b",
   "metadata": {
    "jp-MarkdownHeadingCollapsed": true
   },
   "source": [
    "### 2-1. `qnexus`にログインし、projects/teamsを確認。projectsを指定/作成し、アクティベーションする"
   ]
  },
  {
   "cell_type": "code",
   "execution_count": null,
   "id": "1fce2db3-806a-4ee4-8a59-be718838b7fc",
   "metadata": {},
   "outputs": [],
   "source": [
    "import qnexus as qnx\n",
    "from pytket import Circuit\n",
    "from datetime import datetime"
   ]
  },
  {
   "cell_type": "code",
   "execution_count": null,
   "id": "b215ecb9-d521-44b8-a2b2-138b9669fa83",
   "metadata": {},
   "outputs": [],
   "source": [
    "#qnx.login()\n",
    "qnx.login_with_credentials()"
   ]
  },
  {
   "cell_type": "code",
   "execution_count": null,
   "id": "50f632e1-982a-413a-994b-8dfeb8b64c4d",
   "metadata": {},
   "outputs": [],
   "source": [
    "#projectsを作成/確認\n",
    "#my_project_ref = qnx.projects.get_or_create(\"My Project\")\n",
    "all_my_projects = qnx.projects.get_all()\n",
    "all_my_projects.df()"
   ]
  },
  {
   "cell_type": "code",
   "execution_count": null,
   "id": "b8101ab4-7751-40b2-9ded-d4c3e0b4e7dc",
   "metadata": {},
   "outputs": [],
   "source": [
    "#teamsを作成/確認\n",
    "#my_team =qnx.teams.create(name=\"My Team\")\n",
    "all_my_teams = qnx.teams.get_all()\n",
    "all_my_teams.df()"
   ]
  },
  {
   "cell_type": "markdown",
   "id": "ccc2fb1e-d0cc-427f-b377-b04ffdda08ea",
   "metadata": {},
   "source": [
    "### 2-2. TKET 量子回路をNexus上のQuantinuumのエミュレータで計算"
   ]
  },
  {
   "cell_type": "markdown",
   "id": "1f62718a-fd3d-4993-a3d0-9e7bb4670833",
   "metadata": {},
   "source": [
    "#### Nexusのprojectsを指定/作成し、projectsをアクティベーション"
   ]
  },
  {
   "cell_type": "code",
   "execution_count": null,
   "id": "6e8cafbe-9c9a-40ff-bfd8-8ac977555c4f",
   "metadata": {},
   "outputs": [],
   "source": [
    "my_project_ref = qnx.projects.get_or_create(\"My Project\")\n",
    "qnx.context.set_active_project(my_project_ref)"
   ]
  },
  {
   "cell_type": "markdown",
   "id": "2e3ff217-6ef5-461e-8653-a7e7c59682fe",
   "metadata": {},
   "source": [
    "#### 作成した量子回路をprojectsに保存"
   ]
  },
  {
   "cell_type": "code",
   "execution_count": null,
   "id": "5fbaf90f-c317-4f5a-8293-c4c1870c72b7",
   "metadata": {},
   "outputs": [],
   "source": [
    "#Nexusのアクティベーションしたプロジェクトに量子回路を保存\n",
    "my_circ = qnx.circuits.upload(name=\"my_circ\", circuit=bell)"
   ]
  },
  {
   "cell_type": "code",
   "execution_count": null,
   "id": "7d1e6742-64ff-40a9-8854-ddfb8a5da135",
   "metadata": {},
   "outputs": [],
   "source": [
    "#保存した量子回路を表示\n",
    "my_circ.download_circuit()"
   ]
  },
  {
   "cell_type": "code",
   "execution_count": null,
   "id": "599fc45f-98a6-4925-89fc-f46ea6922c03",
   "metadata": {},
   "outputs": [],
   "source": [
    "from pytket.circuit.display import render_circuit_jupyter\n",
    "render_circuit_jupyter(my_circ.download_circuit())"
   ]
  },
  {
   "cell_type": "markdown",
   "id": "76ae97a8-f876-43e9-8a4f-22f173f838f3",
   "metadata": {},
   "source": [
    "#### 作成した量子回路を量子デバイスで実行するために最適化(コンパイル)"
   ]
  },
  {
   "cell_type": "code",
   "execution_count": null,
   "id": "6704f422-b636-4eac-89d5-7e9f4f43f6c2",
   "metadata": {},
   "outputs": [],
   "source": [
    "#ジョブを区別するための時刻を用意\n",
    "my_job_name_prefix = datetime.now()"
   ]
  },
  {
   "cell_type": "code",
   "execution_count": null,
   "id": "3b78600f-2ec9-4723-b1aa-5a1c516eb3e5",
   "metadata": {},
   "outputs": [],
   "source": [
    "my_comp = qnx.start_compile_job(\n",
    "    name = f\"my_circ compilation {my_job_name_prefix}\",\n",
    "    programs=[my_circ],#複数の量子回路をコンパイルすることが可能 ex. programs=[my_circ1,my_circ2]\n",
    "    optimisation_level=3,\n",
    "    backend_config = qnx.QuantinuumConfig(device_name=\"H2-1LE\"),\n",
    "#    backend_config=qnx.QuantinuumConfig(device_name=\"H2-Emulator\"),\n",
    "#    project=my_project_ref,\n",
    "    )"
   ]
  },
  {
   "cell_type": "code",
   "execution_count": null,
   "id": "0654ca1e-e94d-446d-9169-79ab17d87189",
   "metadata": {},
   "outputs": [],
   "source": [
    "#my_comp:コンパイル前後の量子回路、どのprojectで実行したなどの情報をもったデータフレーム\n",
    "my_comp.df()"
   ]
  },
  {
   "cell_type": "markdown",
   "id": "9a4a1f92-e6d8-4e5e-b2c7-316feb71b9af",
   "metadata": {},
   "source": [
    "#### コンパイルジョブの詳細を確認"
   ]
  },
  {
   "cell_type": "code",
   "execution_count": null,
   "id": "23012c96-c13e-4142-bce9-d0792d92fa5c",
   "metadata": {},
   "outputs": [],
   "source": [
    "#qnx.jobs.resultsを使ってコンパイルの詳細を確認できる\n",
    "compile_job_result_refs = qnx.jobs.results(my_comp)\n",
    "compile_job_result_refs.df()"
   ]
  },
  {
   "cell_type": "code",
   "execution_count": null,
   "id": "5a2e112f-2f80-4189-9cd5-20cd5e968959",
   "metadata": {
    "scrolled": true
   },
   "outputs": [],
   "source": [
    "# コンパイル前の量子回路（オリジナルの量子回路）\n",
    "circ_input = compile_job_result_refs[0].get_input().download_circuit()\n",
    "circ_input"
   ]
  },
  {
   "cell_type": "code",
   "execution_count": null,
   "id": "cc6c302c-d4cd-4fd3-ac96-a53819ac86f4",
   "metadata": {},
   "outputs": [],
   "source": [
    "render_circuit_jupyter(circ_input)"
   ]
  },
  {
   "cell_type": "code",
   "execution_count": null,
   "id": "60d965f4-1ef9-4df3-bae8-6d15fe000c77",
   "metadata": {},
   "outputs": [],
   "source": [
    "# コンパイル後の量子回路（H2-1LEで実行できる量子回路）\n",
    "circ_output = compile_job_result_refs[0].get_output().download_circuit()\n",
    "circ_output"
   ]
  },
  {
   "cell_type": "code",
   "execution_count": null,
   "id": "160318dc-0964-49ec-8737-307e40291101",
   "metadata": {},
   "outputs": [],
   "source": [
    "render_circuit_jupyter(circ_output)"
   ]
  },
  {
   "cell_type": "markdown",
   "id": "dc77098a-4e51-4243-8e17-7518237eff86",
   "metadata": {},
   "source": [
    "#### 量子回路を実行"
   ]
  },
  {
   "cell_type": "code",
   "execution_count": null,
   "id": "3ef847da-dcfd-4d01-8e9c-6917edc84211",
   "metadata": {},
   "outputs": [],
   "source": [
    "compiled_circuits = [item.get_output() for item in qnx.jobs.results(my_comp)]\n",
    "my_exe = qnx.start_execute_job(\n",
    "    programs=compiled_circuits,\n",
    "    name=f\"my_circ execution {my_job_name_prefix}\",\n",
    "    n_shots=[100] * len(compiled_circuits),\n",
    "    backend_config=qnx.QuantinuumConfig(device_name=\"H2-1LE\"),\n",
    "#    backend_config=qnx.QuantinuumConfig(device_name=\"H2-Emulator\"),\n",
    "#    project=my_project_ref,\n",
    ")"
   ]
  },
  {
   "cell_type": "markdown",
   "id": "29c0073e-73a1-4f04-b298-b697359b3d46",
   "metadata": {},
   "source": [
    "#### 実行ジョブの詳細を確認"
   ]
  },
  {
   "cell_type": "code",
   "execution_count": null,
   "id": "c82d1bf3-9a90-44be-8a9b-02db222cd351",
   "metadata": {},
   "outputs": [],
   "source": [
    "execute_job_result_refs = qnx.jobs.results(my_exe)"
   ]
  },
  {
   "cell_type": "code",
   "execution_count": null,
   "id": "acb728c0-2038-426b-8f59-fbb698d0b2cb",
   "metadata": {},
   "outputs": [],
   "source": [
    "execute_job_result_refs.df()"
   ]
  },
  {
   "cell_type": "code",
   "execution_count": null,
   "id": "f4263ff6-0f89-4ee9-92e4-54c7a1664d53",
   "metadata": {},
   "outputs": [],
   "source": [
    "# 実行した量子回路\n",
    "circ_exe = execute_job_result_refs[0].get_input().download_circuit()\n",
    "circ_exe"
   ]
  },
  {
   "cell_type": "code",
   "execution_count": null,
   "id": "1367622d-7a95-4c10-87ec-dea7347081e8",
   "metadata": {},
   "outputs": [],
   "source": [
    "render_circuit_jupyter(circ_exe)"
   ]
  },
  {
   "cell_type": "code",
   "execution_count": null,
   "id": "63c4d746-f25e-49d2-8854-9bc71a98545f",
   "metadata": {},
   "outputs": [],
   "source": [
    "#実行結果\n",
    "result = execute_job_result_refs[0].download_result()\n",
    "result.get_counts()"
   ]
  },
  {
   "cell_type": "markdown",
   "id": "1b4b1e0b-80d6-493a-bcbb-2cad7c71537d",
   "metadata": {},
   "source": [
    "### 2-3. 過去の実行結果を参照"
   ]
  },
  {
   "cell_type": "code",
   "execution_count": null,
   "id": "60b51762-78d0-4fb8-a1a4-ef15d24f501d",
   "metadata": {},
   "outputs": [],
   "source": [
    "#pandas dataframe\n",
    "job_refs = qnx.jobs.get_all().df()"
   ]
  },
  {
   "cell_type": "code",
   "execution_count": null,
   "id": "83c6b41b-2efb-46c4-a9dc-788a79a13f92",
   "metadata": {
    "scrolled": true
   },
   "outputs": [],
   "source": [
    "job_refs[job_refs['created']>'2025-09-01']"
   ]
  },
  {
   "cell_type": "code",
   "execution_count": null,
   "id": "60bc5e85-be9d-4764-b45a-5b843e5c9b6f",
   "metadata": {},
   "outputs": [],
   "source": [
    "#CompileJobRef\n",
    "job_comp = qnx.jobs.get(id='02532d3f-f6f8-4987-be7f-9c375433d201')\n",
    "job_comp"
   ]
  },
  {
   "cell_type": "code",
   "execution_count": null,
   "id": "2fb8b443-be64-4005-8167-ddf141cbb06b",
   "metadata": {},
   "outputs": [],
   "source": [
    "compile_job_result_refs1 = qnx.jobs.results(job_comp)\n",
    "compile_job_result_refs1[0].get_input().download_circuit()"
   ]
  },
  {
   "cell_type": "code",
   "execution_count": null,
   "id": "0f74e121-042d-4eba-bbda-bfaff8d5220b",
   "metadata": {},
   "outputs": [],
   "source": [
    "compile_job_result_refs1[0].get_output().download_circuit()"
   ]
  },
  {
   "cell_type": "code",
   "execution_count": null,
   "id": "e304302b-5cef-428d-af20-ec1357d6b90a",
   "metadata": {},
   "outputs": [],
   "source": [
    "#ExecuteJobRef\n",
    "job_exe = qnx.jobs.get(id='82d9397b-7366-4427-a1b2-aa7f8b9a0920')\n",
    "job_exe"
   ]
  },
  {
   "cell_type": "code",
   "execution_count": null,
   "id": "e5da11a4-3be6-4407-848b-d30faa812787",
   "metadata": {},
   "outputs": [],
   "source": [
    "execute_job_result_refs1 = qnx.jobs.results(job_exe)\n",
    "execute_job_result_refs1[0].get_input().download_circuit()"
   ]
  },
  {
   "cell_type": "code",
   "execution_count": null,
   "id": "fbadb5d8-50ce-4b84-b498-c15b346b4726",
   "metadata": {},
   "outputs": [],
   "source": [
    "result = execute_job_result_refs1[0].download_result()\n",
    "result.get_counts()"
   ]
  },
  {
   "cell_type": "code",
   "execution_count": null,
   "id": "66f3abc0-9061-4050-a110-5bdff52edfbd",
   "metadata": {},
   "outputs": [],
   "source": []
  },
  {
   "cell_type": "markdown",
   "id": "a1e02a9b",
   "metadata": {},
   "source": [
    "### 2-4. Nexus上でIBMQデバイスのノイズエミュレータを構成し、TKET 量子回路をノイズエミュレータに実行\n",
    "※こちらはIBMQデバイスにアクセスできるアカウントが必要。\n",
    "※Nexusにログインしていただき、Backendsタブを押下していただくとManage Linked Accountsからtokenを登録できる"
   ]
  },
  {
   "cell_type": "code",
   "execution_count": null,
   "id": "6c4bfc9e",
   "metadata": {},
   "outputs": [],
   "source": [
    "# for submitting projects to the IBMQ system\n",
    "ibm_kyiv_configuration = qnx.IBMQConfig(\n",
    "    backend_name=\"ibm_pittsburgh\", instance=\"default\", region=\"us-east\"\n",
    ")"
   ]
  },
  {
   "cell_type": "code",
   "execution_count": null,
   "id": "0d0e72c4-b8d8-441e-a775-8b3f84fa2799",
   "metadata": {},
   "outputs": [],
   "source": [
    "# for submitting to an emulation of an IBMQ device (running on an AerBackend based off sampled device characteristics), but running in a Nexus server.\n",
    "ibm_pittsburgh_emulator_configuration = qnx.IBMQEmulatorConfig(\n",
    "    backend_name=\"ibm_pittsburgh\", instance=\"default\", region=\"us-east\"\n",
    ")"
   ]
  },
  {
   "cell_type": "code",
   "execution_count": null,
   "id": "98d4b643-cd7c-409e-b8bf-82be67f349b4",
   "metadata": {},
   "outputs": [],
   "source": [
    "qnx.devices.get_all(\n",
    "    issuers=[qnx.devices.IssuerEnum.IBMQ],\n",
    "    ibm_instance=\"default\",\n",
    "    ibm_region=\"us-east\",\n",
    ").df()"
   ]
  },
  {
   "cell_type": "code",
   "execution_count": null,
   "id": "541fe6eb-69ba-45e1-bd4e-f3bb72c66a37",
   "metadata": {},
   "outputs": [],
   "source": [
    "my_project_ref = qnx.projects.get_or_create(name=\"My IBM pittsburgh Project\")\n",
    "\n",
    "my_comp = qnx.start_compile_job(\n",
    "    name = f\"my_circ compilation {my_job_name_prefix}\",\n",
    "    programs=[my_circ],#複数の量子回路をコンパイルすることが可能 ex. programs=[my_circ1,my_circ2]\n",
    "    optimisation_level=2,\n",
    "    backend_config = ibm_pittsburgh_emulator_configuration,\n",
    "#    backend_config=ibm_pittsburgh_configuration,\n",
    "    project=my_project_ref,\n",
    "    )"
   ]
  },
  {
   "cell_type": "code",
   "execution_count": null,
   "id": "5912f4ca-bea2-4be7-a096-a0c9b8c8905e",
   "metadata": {},
   "outputs": [],
   "source": [
    "compiled_circuits = [item.get_output() for item in qnx.jobs.results(my_comp)]\n",
    "my_exe = qnx.start_execute_job(\n",
    "    programs=compiled_circuits,\n",
    "    name=f\"my_circ execution {my_job_name_prefix}\",\n",
    "    n_shots=[100] * len(compiled_circuits),\n",
    "    backend_config = ibm_pittsburgh_emulator_configuration,\n",
    "#    backend_config=ibm_pittsburgh_configuration,\n",
    "    project=my_project_ref,\n",
    ")"
   ]
  },
  {
   "cell_type": "code",
   "execution_count": null,
   "id": "dc9ce6f9-ecd3-4f0c-ba19-d98730d00635",
   "metadata": {},
   "outputs": [],
   "source": [
    "result = execute_job_result_refs1[0].download_result()\n",
    "result.get_counts()"
   ]
  },
  {
   "cell_type": "markdown",
   "id": "3f570571",
   "metadata": {
    "tags": []
   },
   "source": [
    "## 3. 量子回路の変換\n",
    "pytketでは\n",
    "- qiskitで記述した量子回路(`qiskit.QuantumCircuit`)からTKETの量子回路のクラスに変換が可能\n",
    "- TKETで記述した量子回路からqiskitの量子回路(`qiskit.QuantumCircuit`)のクラスに変換が可能\n",
    "\n",
    "参照：[pytket-extensions](https://docs.quantinuum.com/tket/api-docs/extensions.html) "
   ]
  },
  {
   "cell_type": "markdown",
   "id": "cc06b5db",
   "metadata": {},
   "source": [
    "### 3-1. `qiskit`の量子回路から`TKET`の量子回路に変換"
   ]
  },
  {
   "cell_type": "code",
   "execution_count": null,
   "id": "67884d14",
   "metadata": {},
   "outputs": [],
   "source": [
    "from pytket.extensions.qiskit import qiskit_to_tk"
   ]
  },
  {
   "cell_type": "code",
   "execution_count": null,
   "id": "13f9045c",
   "metadata": {},
   "outputs": [],
   "source": [
    "bell2 = qiskit_to_tk(qs_bell)\n",
    "bell2"
   ]
  },
  {
   "cell_type": "code",
   "execution_count": null,
   "id": "131f2a7c",
   "metadata": {},
   "outputs": [],
   "source": [
    "render_circuit_jupyter(bell2)"
   ]
  },
  {
   "cell_type": "markdown",
   "id": "1d354e75",
   "metadata": {},
   "source": [
    "### 3-2. `TKET`の量子回路から`qiskit`の量子回路に変換"
   ]
  },
  {
   "cell_type": "code",
   "execution_count": null,
   "id": "bfe450cc",
   "metadata": {},
   "outputs": [],
   "source": [
    "from pytket.extensions.qiskit import tk_to_qiskit"
   ]
  },
  {
   "cell_type": "code",
   "execution_count": null,
   "id": "d91a19a2",
   "metadata": {},
   "outputs": [],
   "source": [
    "qs_bell2 = tk_to_qiskit(bell)\n",
    "qs_bell2"
   ]
  },
  {
   "cell_type": "code",
   "execution_count": null,
   "id": "06031b7d",
   "metadata": {},
   "outputs": [],
   "source": [
    "qs_bell2.draw('mpl')"
   ]
  },
  {
   "cell_type": "markdown",
   "id": "f5531565-c200-410b-b964-e0695bf2416d",
   "metadata": {
    "tags": []
   },
   "source": [
    "# 弊社Quantinuumのご紹介\n",
    "- Website（ 英語 ）： https://www.quantinuum.com/\n",
    "- ウェブサイト（ 日本語 ）： https://quantinuum.co.jp/\n",
    "- Press Releases（ 英語 ）： https://www.quantinuum.com/news/news#press-release\n",
    "- ニュース（ 日本語 ）： https://quantinuum.co.jp/news/\n",
    "- X（ 日本語 ）： https://x.com/quantinuum_jp\n",
    "- 採用情報（ 英語 ）：https://www.quantinuum.com/careers\n"
   ]
  },
  {
   "cell_type": "code",
   "execution_count": null,
   "id": "41dc5af2-36de-4f36-a498-6523de5c7296",
   "metadata": {},
   "outputs": [],
   "source": []
  }
 ],
 "metadata": {
  "kernelspec": {
   "display_name": "Python 3 (ipykernel)",
   "language": "python",
   "name": "python3"
  },
  "language_info": {
   "codemirror_mode": {
    "name": "ipython",
    "version": 3
   },
   "file_extension": ".py",
   "mimetype": "text/x-python",
   "name": "python",
   "nbconvert_exporter": "python",
   "pygments_lexer": "ipython3",
   "version": "3.12.9"
  }
 },
 "nbformat": 4,
 "nbformat_minor": 5
}
